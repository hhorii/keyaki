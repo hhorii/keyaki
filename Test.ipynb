{
 "cells": [
  {
   "cell_type": "code",
   "execution_count": 1,
   "id": "dbd4605e",
   "metadata": {},
   "outputs": [
    {
     "data": {
      "application/javascript": [
       "IPython.OutputArea.prototype._should_scroll = function(lines) {\n",
       "    return false;\n",
       "}\n"
      ],
      "text/plain": [
       "<IPython.core.display.Javascript object>"
      ]
     },
     "metadata": {},
     "output_type": "display_data"
    }
   ],
   "source": [
    "%%javascript\n",
    "IPython.OutputArea.prototype._should_scroll = function(lines) {\n",
    "    return false;\n",
    "}"
   ]
  },
  {
   "cell_type": "code",
   "execution_count": 2,
   "id": "0289a38c",
   "metadata": {},
   "outputs": [],
   "source": [
    "from time import sleep\n",
    "from selenium import webdriver\n",
    "from selenium.webdriver.common.by import By\n",
    "from selenium.webdriver.support.ui import WebDriverWait\n",
    "from selenium.webdriver.support import expected_conditions as EC"
   ]
  },
  {
   "cell_type": "code",
   "execution_count": 5,
   "id": "e23823ab",
   "metadata": {},
   "outputs": [],
   "source": [
    "#driver = webdriver.Firefox()\n",
    "\n",
    "from selenium.webdriver.chrome.options import Options\n",
    "chrome_options = Options()\n",
    "#chrome_options.add_argument(\"--disable-extensions\")\n",
    "#chrome_options.add_argument(\"--disable-gpu\")\n",
    "#chrome_options.add_argument(\"--no-sandbox\") # linux only\n",
    "chrome_options.add_argument(\"--headless\")\n",
    "# chrome_options.headless = True # also works\n",
    "driver = webdriver.Chrome(executable_path='/usr/local/bin/chromedriver', options=chrome_options)\n",
    "\n",
    "driver.get(\"https://setagaya.keyakinet.net/Web/Home/WgR_ModeSelect\")"
   ]
  },
  {
   "cell_type": "code",
   "execution_count": 6,
   "id": "c2b4191f",
   "metadata": {},
   "outputs": [],
   "source": [
    "path_of_select_by_purpose = \"/html/body/form/div/div[2]/div/div[2]/div/ul/li[2]\"\n",
    "tab = driver.find_element_by_xpath(path_of_select_by_purpose)\n",
    "tab.click()"
   ]
  },
  {
   "cell_type": "code",
   "execution_count": 7,
   "id": "7116e439",
   "metadata": {},
   "outputs": [],
   "source": [
    "path_of_outdoor_sports = \"/html/body/form/div/div[2]/div/div[2]/div/div[2]/div[1]/ul/li[4]\"\n",
    "WebDriverWait(driver, 10).until(\n",
    "    EC.text_to_be_present_in_element((By.XPATH, path_of_outdoor_sports), \"屋外スポーツ\"))\n",
    "button = driver.find_element_by_xpath(path_of_outdoor_sports)\n",
    "button.click()"
   ]
  },
  {
   "cell_type": "code",
   "execution_count": 8,
   "id": "5e19f72c",
   "metadata": {},
   "outputs": [
    {
     "data": {
      "text/plain": [
       "<selenium.webdriver.support.expected_conditions.presence_of_all_elements_located at 0x7fa9f665cc70>"
      ]
     },
     "execution_count": 8,
     "metadata": {},
     "output_type": "execute_result"
    }
   ],
   "source": [
    "path_of_tennis = \"/html/body/form/div/div[2]/div/div[2]/div/div[2]/div[2]/div/div/ul/li[1]\"\n",
    "WebDriverWait(driver, 10).until(\n",
    "    EC.text_to_be_present_in_element((By.XPATH, path_of_tennis), \"テニス\"))\n",
    "button = driver.find_element_by_xpath(path_of_tennis)\n",
    "button.click()\n",
    "WebDriverWait(driver, 10).until(EC.presence_of_all_elements_located)"
   ]
  },
  {
   "cell_type": "code",
   "execution_count": 9,
   "id": "cb721685",
   "metadata": {},
   "outputs": [],
   "source": [
    "search_button = '//*[@id=\"btnSearchViaPurpose\"]'\n",
    "button = driver.find_element_by_xpath(search_button)\n",
    "button.click()"
   ]
  },
  {
   "cell_type": "code",
   "execution_count": 10,
   "id": "bcb5f4e1",
   "metadata": {},
   "outputs": [],
   "source": [
    "WebDriverWait(driver, 10).until(\n",
    "    EC.presence_of_element_located((By.ID, \"nextpage\")))\n",
    "elements = driver.find_elements_by_class_name('switch-off')\n",
    "for element in elements:\n",
    "    if (element.text in [\"世田谷公園\", \"総合運動場\", \"大蔵第二運動場\"]):\n",
    "        element.click()\n",
    "element = driver.find_element_by_class_name('next')\n",
    "element.click()"
   ]
  },
  {
   "cell_type": "code",
   "execution_count": 11,
   "id": "f3094cc3",
   "metadata": {},
   "outputs": [],
   "source": [
    "month_btn= WebDriverWait(driver, 10).until(\n",
    "    EC.presence_of_element_located((By.ID, \"lblPeriod1month\")))\n",
    "default_days = driver.find_elements_by_class_name(\"week\")\n",
    "month_btn.click()\n",
    "driver.find_element_by_id('btnHyoji').click()\n",
    "WebDriverWait(driver, 10).until(EC.presence_of_all_elements_located)\n",
    "\n",
    "while True:\n",
    "    month_days = driver.find_elements_by_class_name(\"week\")\n",
    "    if len(month_days) > len(default_days):\n",
    "        break\n",
    "    else:\n",
    "        sleep(1)"
   ]
  },
  {
   "cell_type": "code",
   "execution_count": 12,
   "id": "5b95f48a",
   "metadata": {},
   "outputs": [],
   "source": [
    "year_month = driver.find_element_by_class_name('month').text\n",
    "\n",
    "park_list = driver.find_elements_by_tag_name('h3')\n",
    "park_list.pop(0)\n",
    "park_names = [ park.text for park in park_list ]\n",
    "\n",
    "sundays = driver.find_elements_by_xpath('//*[@class=\"day sun\"]')\n",
    "holidays = []\n",
    "for sunday in sundays:\n",
    "    if '日' in sunday.text:\n",
    "        continue\n",
    "    day_week = sunday.text.split('\\n')\n",
    "    holidays.append((day_week[0], day_week[1]))\n",
    "holidays = set(holidays)\n",
    "    \n",
    "park_index = 0\n",
    "days = []\n",
    "courts = []\n",
    "for table in driver.find_elements_by_tag_name('table'):\n",
    "    data = table.text.split('\\n')\n",
    "    if len(data) < 2:\n",
    "        continue\n",
    "    if len(days) == 0:\n",
    "        index = 1\n",
    "        while(data[index + 1] in \"月火水木金土日\"):\n",
    "            days.append((data[index], data[index + 1]))\n",
    "            index += 2\n",
    "    index = 1 + len(days) * 2\n",
    "    while ((index + len(days)) < len(data)):\n",
    "        courts.append({\n",
    "            'park_index': park_index,\n",
    "            'park_name': park_names[park_index],\n",
    "            'court_index': len(courts),\n",
    "            'court_name': data[index]}\n",
    "        )\n",
    "        index += 1\n",
    "        index += len(days)\n",
    "\n",
    "    park_index += 1"
   ]
  },
  {
   "cell_type": "code",
   "execution_count": 13,
   "id": "0fead5a7",
   "metadata": {
    "scrolled": true
   },
   "outputs": [
    {
     "name": "stdout",
     "output_type": "stream",
     "text": [
      "総合運動場-庭球場（照明付） 《砂入り人工芝コート》 2021年5月7日(金) 17:00～19:00 取消処理中\n",
      "総合運動場-庭球場（照明付） 《砂入り人工芝コート》 2021年5月15日(土) 19:00～21:00 取消処理中\n",
      "大蔵第二運動場-庭球場（照明付） 《砂入り人工芝コート》 2021年4月20日(火) 6:00～7:00 空きあり\n",
      "大蔵第二運動場-庭球場（照明付） 《砂入り人工芝コート》 2021年4月22日(木) 6:00～7:00 空きあり\n",
      "大蔵第二運動場-庭球場（照明付） 《砂入り人工芝コート》 2021年4月26日(月) 6:00～7:00 空きあり\n",
      "大蔵第二運動場-庭球場（照明付） 《砂入り人工芝コート》 2021年4月27日(火) 6:00～7:00 空きあり\n",
      "大蔵第二運動場-庭球場（照明付） 《砂入り人工芝コート》 2021年4月30日(金) 6:00～7:00 取消処理中\n",
      "大蔵第二運動場-庭球場（照明付） 《砂入り人工芝コート》 2021年5月3日(月) 7:00～9:00 取消処理中\n",
      "大蔵第二運動場-庭球場（照明付） 《砂入り人工芝コート》 2021年5月6日(木) 6:00～7:00 空きあり\n",
      "大蔵第二運動場-庭球場（照明付） 《砂入り人工芝コート》 2021年5月7日(金) 6:00～7:00 空きあり\n",
      "大蔵第二運動場-庭球場（照明付） 《砂入り人工芝コート》 2021年5月7日(金) 7:00～9:00 取消処理中\n",
      "大蔵第二運動場-庭球場（照明付） 《砂入り人工芝コート》 2021年5月8日(土) 17:00～19:00 取消処理中\n",
      "大蔵第二運動場-庭球場（照明付） 《砂入り人工芝コート》 2021年5月10日(月) 6:00～7:00 空きあり\n",
      "大蔵第二運動場-庭球場（照明付） 《砂入り人工芝コート》 2021年5月11日(火) 6:00～7:00 空きあり\n",
      "大蔵第二運動場-庭球場（照明付） 《砂入り人工芝コート》 2021年5月13日(木) 6:00～7:00 空きあり\n",
      "大蔵第二運動場-庭球場（照明付） 《砂入り人工芝コート》 2021年5月14日(金) 6:00～7:00 空きあり\n"
     ]
    }
   ],
   "source": [
    "checked = []\n",
    "previous = []\n",
    "checking = []\n",
    "\n",
    "while True:\n",
    "    previous = checking\n",
    "    checking = []\n",
    "    availabilities = driver.find_elements_by_xpath('//*[@class=\"switch-off\"]')\n",
    "\n",
    "    while len(availabilities) > 0:\n",
    "        if availabilities[0].text in ('○', '△', '－', '×', '＊'):\n",
    "            break\n",
    "        availabilities.pop(0)\n",
    "\n",
    "    available_days = []\n",
    "    for court in courts:\n",
    "        start_idx = len(days) * court['court_index']\n",
    "        for i in range(start_idx, start_idx + len(days)):\n",
    "            if availabilities[i].text in ('○', '△'):\n",
    "                day = days[i - start_idx]\n",
    "                day_number = day[0]\n",
    "                day_week = \"祝\" if day in holidays else day[1]\n",
    "                # print(f'{court[\"park_name\"]}-{court[\"court_name\"]}: {day_number}({day_week}): {availabilities[i].text}')\n",
    "                driver.execute_script(\"arguments[0].scrollIntoView(true);\", availabilities[i]);\n",
    "                \n",
    "                check_key = (court['court_index'], day_number)\n",
    "                if check_key in previous:\n",
    "                    availabilities[i].click()\n",
    "                if check_key not in checked:\n",
    "                    availabilities[i].click()\n",
    "                    checked.append(check_key)\n",
    "                    checking.append(check_key)\n",
    "                    if len(checking) == 10:\n",
    "                        break\n",
    "        if len(checking) == 10:\n",
    "            break\n",
    "\n",
    "    if len(checking) == 0:\n",
    "        break\n",
    "    \n",
    "    next_btns = driver.find_elements_by_xpath('//*[@class=\"next\"]')\n",
    "    next_btns[len(next_btns) - 1].click()\n",
    "\n",
    "    while True:\n",
    "        next_btns = driver.find_elements_by_xpath('//*[@class=\"next\"]')\n",
    "        if len(next_btns) == 1:\n",
    "            break\n",
    "        sleep(1)\n",
    "\n",
    "    tags = driver.find_elements_by_tag_name('thead')\n",
    "    tables = driver.find_elements_by_xpath('//*[@class=\"scroll-div clearfix\"]')\n",
    "\n",
    "    for i in range(len(checking)):\n",
    "        table = tables[i]\n",
    "        court_index, day_number = checking[i]\n",
    "        day_and_slots = [ day_or_slot.replace('\\n', '') for day_or_slot in table.find_element_by_tag_name('thead').text.split(' ')]\n",
    "        day = day_and_slots[0]\n",
    "        slots = day_and_slots[1:]\n",
    "        slots_available = [False] * len(slots)\n",
    "        slots_processing = [False] * len(slots)\n",
    "        tds = table.find_elements_by_tag_name('td')\n",
    "        j = 0\n",
    "        for td in tds:\n",
    "            if j % len(day_and_slots) == 0:\n",
    "                j += 1\n",
    "                continue\n",
    "            slot_index = (j % len(day_and_slots)) - 1\n",
    "            if td.text == '○':\n",
    "                slots_available[slot_index] = True\n",
    "            elif td.text == '':\n",
    "                slots_processing[slot_index] = True\n",
    "            j += 1\n",
    "        court = courts[court_index]\n",
    "        for j in range(len(slots)):\n",
    "            if slots_available[j]:\n",
    "                print(f'{court[\"park_name\"]}-{court[\"court_name\"]} {day} {slots[j]} 空きあり')\n",
    "            elif slots_processing[j]:\n",
    "                print(f'{court[\"park_name\"]}-{court[\"court_name\"]} {day} {slots[j]} 取消処理中')\n",
    "\n",
    "    prev_btns = driver.find_elements_by_xpath('//*[@class=\"prev\"]')\n",
    "    prev_btns[len(prev_btns) - 1].click()\n",
    "\n",
    "    while True:\n",
    "        month_days = driver.find_elements_by_class_name(\"week\")\n",
    "        if len(month_days) > len(default_days):\n",
    "            break\n",
    "        else:\n",
    "            sleep(1)"
   ]
  },
  {
   "cell_type": "code",
   "execution_count": 14,
   "id": "41cc2fcb",
   "metadata": {},
   "outputs": [],
   "source": [
    "driver.close()"
   ]
  }
 ],
 "metadata": {
  "kernelspec": {
   "display_name": "Python 3",
   "language": "python",
   "name": "python3"
  },
  "language_info": {
   "codemirror_mode": {
    "name": "ipython",
    "version": 3
   },
   "file_extension": ".py",
   "mimetype": "text/x-python",
   "name": "python",
   "nbconvert_exporter": "python",
   "pygments_lexer": "ipython3",
   "version": "3.9.2"
  }
 },
 "nbformat": 4,
 "nbformat_minor": 5
}
